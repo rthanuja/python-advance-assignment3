{
 "cells": [
  {
   "cell_type": "code",
   "execution_count": null,
   "id": "a79d57a6",
   "metadata": {},
   "outputs": [],
   "source": [
    "1. What is the concept of an abstract superclass?\n",
    "\n",
    "abstract superclass is partially implemented class  which is inherited ABC class from abstract base module(abc) which is \n",
    "inbuilit in python.it is considered as a blueprint for other classes.It allows to create a set of methods that must be created\n",
    "within any child classes built from the abstract class."
   ]
  },
  {
   "cell_type": "code",
   "execution_count": null,
   "id": "d98b77a6",
   "metadata": {},
   "outputs": [],
   "source": [
    "2. What happens when a class statement's top level contains a basic assignment statement?\n",
    "\n",
    "It will be treated as a class variable or class attribute and it will be shared by all objects of the class."
   ]
  },
  {
   "cell_type": "code",
   "execution_count": null,
   "id": "1cfd648a",
   "metadata": {},
   "outputs": [],
   "source": [
    "3. Why does a class need to manually call a superclass's __init__ method?\n",
    "\n",
    "If we don't manually call a superclass's __init__ method then the subclass's __init__ method overrides the superclass's __init__\n",
    "method and we won't be able to inherit the attributes from superclass."
   ]
  },
  {
   "cell_type": "code",
   "execution_count": null,
   "id": "50166691",
   "metadata": {},
   "outputs": [],
   "source": [
    "4. How can you augment, instead of completely replacing, an inherited method?\n",
    "\n",
    "super() function can be used in inherited method to augment instead of overriding the method.\n",
    "\n",
    "class child(parent):\n",
    "    def method(arguments):\n",
    "        super().method(arguments)\n",
    "        #code"
   ]
  },
  {
   "cell_type": "code",
   "execution_count": null,
   "id": "a0186471",
   "metadata": {},
   "outputs": [],
   "source": [
    "5. How is the local scope of a class different from that of a function?\n",
    "\n",
    "local scope of a class is created at execution time whereas local scope of function is created at call time not at the \n",
    "defining or execution time.we can access the class attribute from outside the class using dot operator(class.attribute) \n",
    "whereas we cannot access the local variable of function outside the function.\n"
   ]
  }
 ],
 "metadata": {
  "kernelspec": {
   "display_name": "Python 3 (ipykernel)",
   "language": "python",
   "name": "python3"
  },
  "language_info": {
   "codemirror_mode": {
    "name": "ipython",
    "version": 3
   },
   "file_extension": ".py",
   "mimetype": "text/x-python",
   "name": "python",
   "nbconvert_exporter": "python",
   "pygments_lexer": "ipython3",
   "version": "3.10.9"
  }
 },
 "nbformat": 4,
 "nbformat_minor": 5
}
